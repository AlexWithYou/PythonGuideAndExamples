{
 "nbformat": 4,
 "nbformat_minor": 2,
 "metadata": {
  "language_info": {
   "name": "python",
   "codemirror_mode": {
    "name": "ipython",
    "version": 3
   },
   "version": "3.8.0-final"
  },
  "orig_nbformat": 2,
  "file_extension": ".py",
  "mimetype": "text/x-python",
  "name": "python",
  "npconvert_exporter": "python",
  "pygments_lexer": "ipython3",
  "version": 3,
  "kernelspec": {
   "name": "python3",
   "display_name": "Python 3"
  }
 },
 "cells": [
  {
   "cell_type": "code",
   "execution_count": 24,
   "metadata": {},
   "outputs": [
    {
     "output_type": "execute_result",
     "data": {
      "text/plain": "2.160000002504603e-05"
     },
     "metadata": {},
     "execution_count": 24
    }
   ],
   "source": [
    "# A simple example to calculate time in python. you can use time.perfcounter(), time() cannot measure as accurate as perfcounter\n",
    "\n",
    "import time\n",
    "start_time=time.perf_counter() # record the starting time\n",
    "# run algorithm\n",
    "end_time=time.perf_counter() # record the ending time\n",
    "elapsed = end_time-start_time # compute the elapsed time\n",
    "elapsed"
   ]
  },
  {
   "cell_type": "code",
   "execution_count": 8,
   "metadata": {},
   "outputs": [
    {
     "output_type": "stream",
     "name": "stdout",
     "text": "3           0 LOAD_FAST                0 (data)\n              2 LOAD_CONST               1 (0)\n              4 BINARY_SUBSCR\n              6 STORE_FAST               1 (biggest)\n\n  4           8 SETUP_LOOP              24 (to 34)\n             10 LOAD_FAST                0 (data)\n             12 GET_ITER\n        >>   14 FOR_ITER                16 (to 32)\n             16 STORE_FAST               2 (value)\n\n  5          18 LOAD_FAST                2 (value)\n             20 LOAD_FAST                1 (biggest)\n             22 COMPARE_OP               4 (>)\n             24 POP_JUMP_IF_FALSE       14\n\n  6          26 LOAD_FAST                2 (value)\n             28 STORE_FAST               1 (biggest)\n             30 JUMP_ABSOLUTE           14\n        >>   32 POP_BLOCK\n\n  7     >>   34 LOAD_FAST                1 (biggest)\n             36 RETURN_VALUE\n"
    }
   ],
   "source": [
    "# a function to find max Value\n",
    "def find_max(data):\n",
    "    biggest=data[0]\n",
    "    for value in data:\n",
    "        if value>biggest:\n",
    "            biggest=value\n",
    "    return biggest\n",
    "\n",
    "find_max([1,2,3])\n",
    "# you can use dis to see process that find_max is operated\n",
    "import dis\n",
    "dis.dis(find_max)"
   ]
  },
  {
   "cell_type": "code",
   "execution_count": 1,
   "metadata": {},
   "outputs": [],
   "source": [
    "# Concept:Let f (n) and g(n) be functions mapping positive integers to positive real numbers.\n",
    "# We say that f (n) is O(g(n)) if there is a real constant c > 0 and an integer constant\n",
    "# n0 ≥ 1 such that\n",
    "# # f (n) ≤ cg(n), for n ≥ n0.\n",
    "# Proposition 3.9: If f (n) is a polynomial of degree d, that is,\n",
    "# f (n) = a0 +a1n+· · ·+adn^d ,\n",
    "# and ad > 0, then f (n) is O(n^d).\n",
    "\n",
    "# PLEASE remember in algorithm and data structure, we use Log2N as logN which means log(2,8)=log8=3\n",
    "# if a function f (n) precedes a function g(n) in the sequence,\n",
    "# then f (n) is O(g(n)):\n",
    "# 1, logn, n, nlog n, n2, n3, 2n.\n",
    "\n",
    "# Here is a TABLE,n logn... is row,8 to 512 is column\n",
    "# n logn n nlogn n2 n3 2n\n",
    "# 8 3 8 24 64 512 256\n",
    "# 16 4 16 64 256 4,096 65,536\n",
    "# 32 5 32 160 1,024 32,768 4,294,967,296\n",
    "# 64 6 64 384 4,096 262,144 1.84×1019\n",
    "# 128 7 128 896 16,384 2,097,152 3.40×1038\n",
    "# 256 8 256 2,048 65,536 16,777,216 1.15×1077\n",
    "# 512 9 512 4,608 262,144 134,217,728 1.34×10154\n",
    "\n",
    "# Another table for efficiency of algorithm\n",
    "# Running Maximum Problem Size (n)\n",
    "# Time (μs) 1 second 1 minute 1 hour\n",
    "# 400n 2,500 150,000 9,000,000\n",
    "# 2n2 707 5,477 42,426\n",
    "# 2n 19 25 31\n",
    "\n",
    "# while it is true\n",
    "# that the function 10100n is O(n), if this is the running time of an algorithm being\n",
    "# compared to one whose running time is 10nlog n, we should prefer the O(nlog n)-\n",
    "# time algorithm, even though the linear-time algorithm is asymptotically faster. This\n",
    "# preference is because the constant factor, 10100, which is called “one googol,”\n",
    "\n",
    "# Because Python’s\n",
    "# lists are implemented as array-based sequences, references to a list’s elements are\n",
    "# stored in a consecutive block of memory. The jth element of the list can be found,\n",
    "# not by iterating through the list one element at a time, but by validating the index,\n",
    "# and using it as an offset into the underlying array.\n",
    "\n",
    "# The next problem we consider is computing what are known as prefix averages\n",
    "# of a sequence of numbers. Namely, given a sequence S consisting of n numbers,\n",
    "# we want to compute a sequence A such that A[ j] is the average of elements\n",
    "# S[0], . . . ,S[ j], for j = 0, . . . ,n−1, that is,\n",
    "# A[ j] = Σ[(j,i)=0,n] S[i]/j+1. (i,j iterate from 0 to n)"
   ]
  },
  {
   "cell_type": "code",
   "execution_count": 19,
   "metadata": {},
   "outputs": [
    {
     "output_type": "stream",
     "name": "stdout",
     "text": "--- 0\n-\n--\n-\n--- 1\n-\n--\n-\n--- 2\n-\n--\n-\n--- 3\n"
    }
   ],
   "source": [
    "# tick label default=\"\" if is perform boolean judgement, None return False else return True\n",
    "def draw_line(tick_length,tick_label=\"\"):\n",
    "    line='-'*tick_length\n",
    "    if tick_label:\n",
    "        line+=' '+tick_label\n",
    "    print(line)\n",
    "\n",
    "def draw_interval(center_length):\n",
    "    if center_length>0:\n",
    "        draw_interval(center_length-1)\n",
    "        draw_line(center_length)\n",
    "        draw_interval(center_length-1)\n",
    "\n",
    "def draw_ruler(num_inches,major_length):\n",
    "    draw_line(major_length,'0')\n",
    "    for j in range(1,1+num_inches):\n",
    "        draw_interval(major_length-1)\n",
    "        draw_line(major_length,str(j))\n",
    "\n",
    "draw_ruler(3,3)\n"
   ]
  },
  {
   "cell_type": "code",
   "execution_count": 49,
   "metadata": {},
   "outputs": [
    {
     "output_type": "execute_result",
     "data": {
      "text/plain": "True"
     },
     "metadata": {},
     "execution_count": 49
    }
   ],
   "source": [
    "# binary search\n",
    "def binary_search(data,target,low,high):\n",
    "    if low>high:\n",
    "        return False\n",
    "    else:\n",
    "        mid=(low+high)//2\n",
    "        if target==data[mid]:\n",
    "            return True\n",
    "        elif target<data[mid]:\n",
    "            return binary_search(data,target,low,mid-1)\n",
    "        else:\n",
    "            return binary_search(data,target,mid+1,high)\n",
    "\n",
    "binary_search([1,6,12,43,24,25,26],12,0,6)"
   ]
  },
  {
   "cell_type": "code",
   "execution_count": 18,
   "metadata": {},
   "outputs": [
    {
     "output_type": "stream",
     "name": "stdout",
     "text": "17821   C:\\Study\\Other\\Self-study\\Code\\Chapter 2.ipynb\n0       C:\\Study\\Other\\Self-study\\Code\\Chapter 3.ipynb\n0       C:\\Study\\Other\\Self-study\\Code\\floats.bin\n20935   C:\\Study\\Other\\Self-study\\Code\\OOP.ipynb\n9245    C:\\Study\\Other\\Self-study\\Code\\Python Primer.ipynb\n514     C:\\Study\\Other\\Self-study\\Code\\Recursion example.py\n8421    C:\\Study\\Other\\Self-study\\Code\\Recursion.ipynb\n3994    C:\\Study\\Other\\Self-study\\Code\\新建文本文档.txt\n65026   C:\\Study\\Other\\Self-study\\Code\n"
    },
    {
     "output_type": "execute_result",
     "data": {
      "text/plain": "65026"
     },
     "metadata": {},
     "execution_count": 18
    }
   ],
   "source": [
    "import os\n",
    "\n",
    "def disk_usage(path):\n",
    "    '''Return the number of bytes used by a file/folder and any descendents.'''\n",
    "    total = os.path.getsize(path) # account for direct usage\n",
    "    if os.path.isdir(path): # if this is a directory,\n",
    "        for filename in os.listdir(path): # then for each child:\n",
    "            childpath = os.path.join(path, filename) # compose full path to child\n",
    "            total += disk_usage(childpath) # add child’s usage to total\n",
    "\n",
    "    print('{0:<7}'.format(total),path) # descriptive output (optional)\n",
    "    return total\n",
    "\n",
    "disk_usage(\"C:\\Study\\Other\\Self-study\\Code\")"
   ]
  },
  {
   "cell_type": "code",
   "execution_count": 33,
   "metadata": {},
   "outputs": [],
   "source": [
    "# Terrible example, examples below are codes that you should avoid\n",
    "def unique3(S,start,stop):\n",
    "    '''Return True if there are no duplicate elements in slice S[start:stop].'''\n",
    "    if stop-start<=1: \n",
    "        return True # at most one item\n",
    "    elif not unique(S,start,stop-1): \n",
    "        return False # first part has duplicate\n",
    "    elif not unique(S,start+1,stop): \n",
    "        return False # second part has duplicate\n",
    "    else: \n",
    "        return S[start]!=S[stop-1] # do first and last differ?\n",
    "\n",
    "\n",
    "# n = 1, then the running time of unique3 is O(1), since there are no recursive\n",
    "# calls for this case. In the general case, the important observation is that a single call\n",
    "# to unique3 for a problem of size n may result in two recursive calls on problems of\n",
    "# size n−1. Those two calls with size n−1 could in turn result in four calls (two\n",
    "# each) with a range of size n−2, and thus eight calls with size n−3 and so on.\n",
    "# Thus, in the worst case, the total number of function calls is given by the geometric\n",
    "# summation\n",
    "# 1+2+4+· · ·+2n−1"
   ]
  },
  {
   "cell_type": "code",
   "execution_count": 52,
   "metadata": {},
   "outputs": [
    {
     "output_type": "execute_result",
     "data": {
      "text/plain": "(5, 3)"
     },
     "metadata": {},
     "execution_count": 52
    }
   ],
   "source": [
    "# Terrible example, examples below are codes that you should avoid\n",
    "def bad_fibonacci(n):\n",
    "    '''Return the nth Fibonacci number.'''\n",
    "    if n<=1:\n",
    "        return n\n",
    "    else:\n",
    "        return bad_fibonacci(n-2) + bad_fibonacci(n-1)\n",
    "# Good example\n",
    "def good_fibonacci(n):\n",
    "    '''Return pair of Fibonacci numbers, F(n) and F(n-1).'''\n",
    "    if n <= 1:\n",
    "        return (n,0)\n",
    "    else:\n",
    "        (a, b) = good_fibonacci(n-1)\n",
    "        return (a+b, a)\n",
    "\n",
    "good_fibonacci(6)\n",
    "good_fibonacci(5)"
   ]
  }
 ]
}