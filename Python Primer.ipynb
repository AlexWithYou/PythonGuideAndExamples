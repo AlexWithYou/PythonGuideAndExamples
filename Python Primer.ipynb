{
 "nbformat": 4,
 "nbformat_minor": 2,
 "metadata": {
  "language_info": {
   "name": "python",
   "codemirror_mode": {
    "name": "ipython",
    "version": 3
   },
   "version": "3.8.0-final"
  },
  "orig_nbformat": 2,
  "file_extension": ".py",
  "mimetype": "text/x-python",
  "name": "python",
  "npconvert_exporter": "python",
  "pygments_lexer": "ipython3",
  "version": 3,
  "kernelspec": {
   "name": "python3",
   "display_name": "Python 3"
  }
 },
 "cells": [
  {
   "cell_type": "code",
   "execution_count": 2,
   "metadata": {},
   "outputs": [],
   "source": [
    "points = { 'A+' :4.0, 'A':4.0, 'A-':3.67,' B+' :3.33, 'B' :3.0,'B-':2.67,\n",
    "'C+':2.33, 'C':2.0, 'C-':1.67, 'D+' :1.33,'D':1.0, 'F':0.0}\n",
    "\n",
    "num_courses = 0\n",
    "total_points = 0\n",
    "done = False\n",
    "while not done:\n",
    "    grade=input()\n",
    "    if grade==\"\":\n",
    "        done=True\n",
    "    elif grade not in points:\n",
    "        print(\"Invalid\".format(grade))\n",
    "    else:\n",
    "        num_courses+=1\n",
    "        total_points+=points[grade]\n",
    "        \n",
    "if num_courses>0:\n",
    "    print('{0:.3}'.format(total_points/num_courses))"
   ]
  },
  {
   "cell_type": "code",
   "execution_count": 40,
   "metadata": {},
   "outputs": [
    {
     "output_type": "execute_result",
     "data": {
      "text/plain": "'NP'"
     },
     "metadata": {},
     "execution_count": 40
    }
   ],
   "source": []
  },
  {
   "cell_type": "code",
   "execution_count": 45,
   "metadata": {},
   "outputs": [
    {
     "output_type": "stream",
     "name": "stdout",
     "text": "110.5\n"
    }
   ],
   "source": [
    "#Practice 2\n",
    "age=int(input())\n",
    "max_heart_rate=206-3*(age)\n",
    "target=0.65*max_heart_rate\n",
    "print('',target)"
   ]
  },
  {
   "cell_type": "code",
   "execution_count": 53,
   "metadata": {},
   "outputs": [],
   "source": [
    "# with exception handler\n",
    "# GPA calculator (> or = 'number' give a rank)\n",
    "try:\n",
    "    def calculator():\n",
    "        inter={'A':90,'B':80,'C':70,'D':60,'NP':50}\n",
    "    \n",
    "        new=input()\n",
    "        new1=new.isdigit()\n",
    "        if new1==False:\n",
    "            return 'INVALID'\n",
    "        else:\n",
    "            new=int(new)\n",
    "            if new>=inter['A']:\n",
    "                return list(inter.keys())[0]\n",
    "            elif new>=inter['B']:\n",
    "                return list(inter.keys())[1]\n",
    "            elif new>=inter['C']:\n",
    "                return list(inter.keys())[2]\n",
    "            elif new>=inter['D']:\n",
    "                return list(inter.keys())[3]\n",
    "            else:\n",
    "                return list(inter.keys())[4]\n",
    "\n",
    "    calculator()\n",
    "except Exception:\n",
    "    print('PLEASE DONT BE A DUMBASS')"
   ]
  },
  {
   "cell_type": "code",
   "execution_count": 1,
   "metadata": {},
   "outputs": [],
   "source": [
    "#Sort basic\n",
    "a=[2,1,8,4,5,6,7]\n",
    "for i in range(1,len(a)):\n",
    "    if a[i-1]>a[i]:\n",
    "        temp=a[i-1]\n",
    "        a[i-1]=a[i]\n",
    "        a[i]=temp\n",
    "\n",
    "# Reverse a list\n",
    "# method 1: not use formula\n",
    "b=a \n",
    "j=0\n",
    "d=[None]*7\n",
    "for i in range(len(b)-1,-1,-1):\n",
    "    d[j]=b[i]\n",
    "    j+=1\n",
    "\n",
    "# method 2:use formula\n",
    "b.reverse()\n",
    "\n",
    "\n",
    ""
   ]
  },
  {
   "cell_type": "code",
   "execution_count": 17,
   "metadata": {},
   "outputs": [
    {
     "output_type": "execute_result",
     "data": {
      "text/plain": "True"
     },
     "metadata": {},
     "execution_count": 17
    }
   ],
   "source": [
    "# Determine whether there are two number in a list, that their product is odd\n",
    "\n",
    "# odd multiply odd is odd. Odd multiply even is even.So the pair must be two odd number\n",
    "def has_odd_pair(data):\n",
    "    count=0\n",
    "    for j in range(len(data)):\n",
    "        if data[j] % 2 == 1:\n",
    "            count+=1\n",
    "            if count == 2:\n",
    "                return True\n",
    "    return False\n",
    "\n",
    "d=[1,2,3]\n",
    "has_odd_pair(d)"
   ]
  },
  {
   "cell_type": "code",
   "execution_count": 32,
   "metadata": {},
   "outputs": [
    {
     "output_type": "stream",
     "name": "stdout",
     "text": "Not distinct\n"
    }
   ],
   "source": [
    "# whether all number in a list is unique\n",
    "a=[1,2,3,3,3,4,5,4,5,6]\n",
    "b=[1,2,3,4,5]\n",
    "def is_distinct(c):\n",
    "    for i in range(len(c)):\n",
    "        for j in range(i+1,len(c)):\n",
    "            if c[i]==c[j]:\n",
    "                return 'Not distinct'\n",
    "                break\n",
    "    return 'Distinct'\n",
    "\n",
    "\n",
    "# method 2\n",
    "def is_distinct(data):\n",
    "    for k in range(1, len(data)):\n",
    "        for j in range(k):\n",
    "            if data[j] == data[k]:\n",
    "                return False\n",
    "    return True\n",
    "\n",
    "# Note in python, if we want a function that modiﬁes numeric values in place, we would need a class that wraps that numeric value"
   ]
  },
  {
   "cell_type": "code",
   "execution_count": 51,
   "metadata": {},
   "outputs": [
    {
     "output_type": "stream",
     "name": "stdout",
     "text": "[1, 2, 3]\n"
    }
   ],
   "source": [
    "# The purpose of this code is, to illustrate that,list is not immutable but integer is mutable. When you use value as iterator, you must select item like data[i] instead of i to get correct result\n",
    "\n",
    "# Please remember, string, dic and list are immutable!!!\n",
    "def scale(data, factor):\n",
    "    for val in data:\n",
    "        val*=factor\n",
    "    return data\n",
    "\n",
    "a=[1,2,3]\n",
    "b=4\n",
    "print(scale(a,b))"
   ]
  },
  {
   "cell_type": "code",
   "execution_count": null,
   "metadata": {},
   "outputs": [],
   "source": []
  }
 ]
}